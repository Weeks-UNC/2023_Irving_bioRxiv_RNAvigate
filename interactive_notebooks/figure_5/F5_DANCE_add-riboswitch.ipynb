{
 "cells": [
  {
   "attachments": {},
   "cell_type": "markdown",
   "metadata": {},
   "source": [
    "# DANCE-MaP analysis of the adenine riboswitch\n",
    "\n",
    "Here we recreate the visualization from Figure 2C of Olson et al. 2022. [pdf](https://doi.org/10.1016/j.molcel.2022.02.009)\n",
    "\n",
    "In short, DMS-MaP was performed on an IVT construct of *Vibrio vulnificus* adenine riboswitch in the absence of adenine ligand. DANCE-MaP analysis recapitulates the known states and populations of this riboswitch and provides direct evidence for accepted secondary and tertiary structure interactions. These data are then used to accurately model each state of the ensemble.\n",
    "\n",
    "DanceMapper post-analysis files are availabe through the GEO (GSE182552). The direct download link is: [GSE182552_RAW.tar](https://www.ncbi.nlm.nih.gov/geo/download/?acc=GSE182552&format=file). Extract this folder and the resulting folder, GSM5531266_wt_0_deep_danceoutput.tar.gz to obtain the Dancemapper output files. To predict structures from these data, we run `python ~/DanceMapper/foldClusters.py --bp wt_0_deep wt_0_deep-reactivities.txt wt_0_deep` which produces .ct files. These .ct files were loaded into StructureEditor, part of [RNAstructure](http://rna.urmc.rochester.edu/RNAstructure.html). With this software, structure cassettes were removed and a custom layout for each secondary structure was created to match the original publication (wt_0_deep-0.nsd and wt_0_deep-1.nsd). Finally, the adenine-bound crystal structure was retreived from the RCSB, [here](https://www.rcsb.org/structure/4TZX). These steps yield the 8 files needed for this analysis:\n",
    "\n",
    "From RCSB:\n",
    "- 4tzx.pdb\n",
    "\n",
    "From foldClusters.py followed by StructureEditor:\n",
    "- wt_0_deep-0.nsd\n",
    "- wt_0_deep-1.nsd\n",
    "\n",
    "From original publication:\n",
    "- wt_0_deep-0-pairmap.txt\n",
    "- wt_0_deep-1-pairmap.txt\n",
    "- wt_0_deep-0-rings.txt\n",
    "- wt_0_deep-rings.txt\n",
    "- wt_0_deep-reactivities.txt\n",
    "\n",
    "## Import RNAvigate\n"
   ]
  },
  {
   "cell_type": "code",
   "execution_count": null,
   "metadata": {},
   "outputs": [],
   "source": [
    "import rnavigate as rnav\n"
   ]
  },
  {
   "attachments": {},
   "cell_type": "markdown",
   "metadata": {},
   "source": [
    "## Define experimental samples and provide input file names\n",
    "\n",
    "The second step is to organize data into samples by providing RNAvigate with input file names.\n",
    "Each input file is converted to a Python data structure and assigned to a data keyword.\n",
    "These data keywords tell RNAvigate how to parse the data, and organize data consistently between samples.\n",
    "Here, each sample is defined as a single component of the DANCE-MaP model.\n",
    "The data keywords for each sample are as follows:\n",
    "\n",
    "- `dancemap`: reactivities from the DanceMapper \"reactivities.txt\" output file.\n",
    "- `pairmap`: PAIRs from the DanceMapper \"pairmap.txt\" output file.\n",
    "- `ringmap`: RINGs from the DanceMapper \"rings.txt\" output file.\n",
    "- `ss`: secondary structure drawing from the StructureEditor \".nsd\" output file.\n",
    "- `pdb`: structure from the \"4TZX.pdb\" file downloaded from the PDB.\n",
    "- `SD`: annotation of the Shine-Delgarno sequence, defined manually.\n",
    "\n",
    "Finally, we calculate mutual information scores to be used to filter RINGs.\n",
    "See the Jupyter notebook for figure 4 for a full explaination."
   ]
  },
  {
   "cell_type": "code",
   "execution_count": null,
   "metadata": {},
   "outputs": [],
   "source": [
    "add_wt_0 = rnav.Sample(\n",
    "    sample=\"Translation OFF (58%)\",\n",
    "    dancemap={\n",
    "        \"dancemap\": \"wt_0_deep-reactivities.txt\",\n",
    "        \"component\": 0},\n",
    "    pairmap=\"wt_0_deep-0-pairmap.txt\",\n",
    "    ringmap='wt_0_deep-0-rings.txt',\n",
    "    ss='wt_0_deep-0.nsd',\n",
    "    SD={\n",
    "        'spans': [[99, 105]],\n",
    "        'sequence': 'ss',\n",
    "        'color': 'DarkOrchid',\n",
    "        'name': \"Shine-Delgarno\"\n",
    "        },\n",
    "    pdb={'pdb': '4tzx.pdb', 'chain': 'X'},\n",
    "    )\n",
    "\n",
    "add_wt_1 = rnav.Sample(\n",
    "    sample=\"Translation ON (42%)\",\n",
    "    dancemap={\n",
    "        \"dancemap\": \"wt_0_deep-reactivities.txt\",\n",
    "        \"component\": 1},\n",
    "    pairmap=\"wt_0_deep-1-pairmap.txt\",\n",
    "    ringmap='wt_0_deep-1-rings.txt',\n",
    "    ss='wt_0_deep-1.nsd',\n",
    "    SD={\n",
    "        'spans': [[99, 105]],\n",
    "        'sequence': 'ss',\n",
    "        'color': 'DarkOrchid',\n",
    "        'name': \"Shine-Delgarno\"\n",
    "        },\n",
    "    pdb={'pdb': '4tzx.pdb', 'chain': 'X'},\n",
    "    )\n",
    "\n",
    "samples = [add_wt_0, add_wt_1]\n",
    "\n",
    "# for each component of Dance, compute RINGs mutual information scores\n",
    "for sample in samples:\n",
    "    sample.data[\"ringmap\"].data.eval(\n",
    "        \"MI = Statistic / (2 * Mod_Depth)\",\n",
    "        inplace=True\n",
    "        )\n"
   ]
  },
  {
   "attachments": {},
   "cell_type": "markdown",
   "metadata": {},
   "source": [
    "Data positions with different sequences\n",
    "---------------------------------------\n",
    "\n",
    "Experimental and structural data with different underlying sequences or\n",
    "reference positions are automatically aligned and repositioned for visual\n",
    "comparison. These alignments work well when sequences are similar, but it\n",
    "is a good idea to check this alignment with more divergent sequences.\n",
    "\n",
    "These alignments can be checked visually using `rnav.plot_alignment()`. Top and\n",
    "bottom axes indicate positional alignment. Grey bars indicate sequence matches."
   ]
  },
  {
   "cell_type": "code",
   "execution_count": null,
   "metadata": {},
   "outputs": [],
   "source": [
    "plot = rnav.plot_alignment(\n",
    "    data1=(add_wt_1, \"dancemap\"),\n",
    "    data2=(add_wt_1, \"ss\"),\n",
    "    labels=[\"dancemap\", \"ss\"])\n",
    "plot = rnav.plot_alignment(\n",
    "    data1=(add_wt_1, \"dancemap\"),\n",
    "    data2=(add_wt_1, \"pdb\"),\n",
    "    labels=[\"dancemap\", \"pdb\"])\n"
   ]
  },
  {
   "attachments": {},
   "cell_type": "markdown",
   "metadata": {},
   "source": [
    "## Display RINGs, PAIRs, and structure model for each component as arc plots\n",
    "\n",
    "Olson et. al. established filters for visualizing RING-MaP and PAIR-MaP data\n",
    "that result from DANCE-MaP analysis. These filters are applied below with\n",
    "`interactions.filter(...)`. We are using a modified version of these filters.\n",
    "\n",
    "A RING correlation between nucleotides i and j is included if the correlation:\n",
    "- is positive\n",
    "- has G<sub>apc</sub> above 23\n",
    "- has a contact distance between i and j of at least 15\n",
    "- is between single-stranded nucleotides\n",
    "- has a mutual information score greater than 0.000025\n",
    "- has a Z<sub>ij</sub> greater than 2\n",
    "\n",
    "PAIRs are included only if they agree with the predicted structure.\n",
    "\n",
    "Then, `rnav.plot_arcs_multisample(...)` is used to create arc plots for each\n",
    "DANCE component. Arguments are explained in-line below."
   ]
  },
  {
   "cell_type": "code",
   "execution_count": null,
   "metadata": {},
   "outputs": [],
   "source": [
    "ss_list = [sample.get_data(\"ss\") for sample in samples]\n",
    "for sample in samples:\n",
    "    ss, ringmap, pairmap = sample.get_data([\"ss\", \"ringmap\", \"pairmap\"])\n",
    "    ringmap.filter(\n",
    "        structure=ss,\n",
    "        positive_only=True,\n",
    "        ss_only=True,\n",
    "        MI_ge=0.000025,\n",
    "        Zij_ge=2,\n",
    "        Statistic_ge=23,\n",
    "        )\n",
    "    ringmap.mask_on_structure(ss_list, min_cd=15)\n",
    "    pairmap.filter(structure=ss, paired_only=True)\n",
    "\n",
    "plot = rnav.plot_arcs(\n",
    "    samples=samples,                 # Make one plot per dance component\n",
    "    sequence=\"ss\",                   # align sequences to structure model\n",
    "    structure=\"ss\",                  # display base-pair arcs\n",
    "    profile=\"dancemap\",              # display dance map profile bar plot\n",
    "    interactions={\n",
    "        \"interactions\": \"pairmap\",   # Plot PAIR-MaP data\n",
    "        \"prefiltered\": True},        # Preserve the filtering applied above\n",
    "    interactions2={\n",
    "        \"interactions\": \"ringmap\",   # Plot RING-MaP data (on bottom by default)\n",
    "        \"prefiltered\":True},         # Preserve the filtering applied above\n",
    "    panels={\n",
    "        \"structure\": \"top\",          # structure arcs on top\n",
    "        \"interactions\": \"top\",       # PAIRs arcs on top\n",
    "        \"interactions2\": \"bottom\"    # RINGs arcs on bottom\n",
    "        },\n",
    "    profile_scale_factor=5,          # Scale profile bar height by 5x\n",
    "    plot_error=False,                # Don't plot error bars\n",
    "    plot_kwargs={\"track_labels\": False}\n",
    "    )\n",
    "# plot.save(\"ade_arcs.svg\")\n"
   ]
  },
  {
   "attachments": {},
   "cell_type": "markdown",
   "metadata": {},
   "source": [
    "## Display filtered RINGs on secondary structure drawings for each component"
   ]
  },
  {
   "cell_type": "code",
   "execution_count": null,
   "metadata": {},
   "outputs": [],
   "source": [
    "temp_settings = {\n",
    "    'ss': {\n",
    "        'interactions': {\n",
    "            'zorder': 0,\n",
    "            'linewidth': 3\n",
    "    }}}\n",
    "with rnav.styles.Settings(temp_settings):\n",
    "    plot = rnav.plot_ss(\n",
    "        samples=samples,                 # plot structure diagram for each dance component\n",
    "        structure='ss',                  # display these structure drawings\n",
    "        profile='dancemap',              # load reactivities data for coloring\n",
    "        annotations=['SD'],              # highlight the shine-dalgarno sequence\n",
    "        interactions2={\n",
    "            'interactions': 'pairmap',   # display PAIRs\n",
    "            'prefiltered': True},        # maintain the dance filter\n",
    "        interactions={\n",
    "            'interactions': 'ringmap',   # display RINGs\n",
    "            'prefiltered': True},        # maintain the dance filter applied earlier\n",
    "        colors={'sequence': 'profile'},  # use dancemap reactivity colors applied to the sequence letters\n",
    "        )\n",
    "plot.get_ax(0).text(6, -6, 'SD')\n",
    "plot.get_ax(1).text(3, -1, 'SD');\n",
    "# plot.save('ade_ss.svg')\n"
   ]
  },
  {
   "attachments": {},
   "cell_type": "markdown",
   "metadata": {},
   "source": [
    "## Display filtered RINGs on 3D structure\n",
    "\n",
    "RINGs are filtered according to secondary structure. This requires a positional\n",
    "alignment as described above. These filtered RINGs are then repositioned again\n",
    "to be displayed on the 3D structure below. This multiple repositioning of data\n",
    "is a significant time-saving feature of RNAvigate."
   ]
  },
  {
   "cell_type": "code",
   "execution_count": null,
   "metadata": {},
   "outputs": [],
   "source": [
    "plot = rnav.plot_mol(\n",
    "    samples=[add_wt_1],\n",
    "    structure=\"pdb\",                # make a 3D rendering of the ON state\n",
    "    interactions={\n",
    "        'interactions': 'ringmap',  # plot RING-MaP interactions\n",
    "        'prefiltered': True},       # preserve the filtering applied above\n",
    "    atom='DMS',                     # Draw RING cylinders between DMS-reactive atoms (N1 for A and C, N3 for U and G)\n",
    "    colors='grey',                  # Color RNA grey\n",
    "    width=800, height=800,          # change plot dimensions\n",
    "    background_alpha=0,             # make background transparent\n",
    "    orientation=[21.49, -19.50, 11.15, -70.90, -0.50, -0.84, -0.04, 0.22],\n",
    "                                    # use this predetermined orientation\n",
    "    title=False,                    # don't display the title\n",
    ")\n"
   ]
  },
  {
   "cell_type": "code",
   "execution_count": null,
   "metadata": {},
   "outputs": [],
   "source": [
    "# plot.save()\n"
   ]
  }
 ],
 "metadata": {
  "kernelspec": {
   "display_name": "RNAvigate",
   "language": "python",
   "name": "python3"
  },
  "language_info": {
   "codemirror_mode": {
    "name": "ipython",
    "version": 3
   },
   "file_extension": ".py",
   "mimetype": "text/x-python",
   "name": "python",
   "nbconvert_exporter": "python",
   "pygments_lexer": "ipython3",
   "version": "3.9.2"
  },
  "orig_nbformat": 4,
  "vscode": {
   "interpreter": {
    "hash": "5cbb00885ecd6c28cb92c1f604a30a23977756562934ed05197ce2fdb8002d56"
   }
  }
 },
 "nbformat": 4,
 "nbformat_minor": 2
}
