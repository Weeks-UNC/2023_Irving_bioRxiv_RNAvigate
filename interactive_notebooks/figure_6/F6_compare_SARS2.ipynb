{
 "cells": [
  {
   "cell_type": "markdown",
   "metadata": {},
   "source": [
    "# Comparison of chemical probing methods\n",
    "\n",
    "Here we compare the results of four studies that reported full-length SARS-CoV-2 secondary structures based on in-cell structure probing data.\n",
    "\n",
    "In short, cells infected with SARS-CoV-2 were probed with a structure probing reagent. Then, sites of chemical adducts were encoded in cDNA libaries and sequenced. Chemical reactivity is quantified, per-nucleotide, using a bioinformatic pipeline. Structure prediction is performed using chemical reactivity as constraints. All four studies differed in the details of each of these steps. Refer to Table S1 for the differences between these experiments.\n",
    "\n",
    "For each publication, per-nucleotide reactivities and secondary structure models were downloaded from the original publications with one exception. The full-length structure model from Sun et al. was not included in the original publication, but was found in the supplemental data from Lan et al.\n",
    "\n",
    "In addition, we performed our own structure modelling, using RNAstructure Fold, of the first 8000 nucleotides of SARS-CoV-2, with a max pairing distance of 300 (`--md 300`) and without chemical probing data.\n",
    "\n",
    "Our *de novo* structure model:\n",
    "\n",
    "- Files and commands (RNAvigate_figures/interactive_notebooks/figure_6/denovo_model)\n",
    "- Structure model [file](./denovo_model/sars_1_8000_md300.ct)\n",
    "\n",
    "Manfredonia et al. 2020 [link](https://doi.org/10.1093/nar/gkaa1053)\n",
    "\n",
    "- Data set website [link](http://www.incarnatolab.com/datasets/SARS_Manfredonia_2020.php)\n",
    "- Reactivity data [file download](http://www.incarnatolab.com/downloads/datasets/SARS_Manfredonia_2020/XML.tar.gz)\n",
    "- Structure model [file download](http://www.incarnatolab.com/downloads/datasets/SARS_Manfredonia_2020/Structure_models.tar.gz)\n",
    "\n",
    "Sun et al. 2021 [link](https://doi.org/10.1016/j.cell.2021.02.008)\n",
    "\n",
    "- Reactivity data [file download](https://www.cell.com/cms/10.1016/j.cell.2021.02.008/attachment/62b49a27-68e7-44bc-ab12-2a0fc9705938/mmc2.xlsx)\n",
    "\n",
    "Lan et al. 2022 [link](https://doi.org/10.1038/s41467-022-28603-2)\n",
    "\n",
    "- Structure model [file download](https://static-content.springer.com/esm/art%3A10.1038%2Fs41467-022-28603-2/MediaObjects/41467_2022_28603_MOESM10_ESM.txt)\n",
    "- Reactivity data [file download](https://static-content.springer.com/esm/art%3A10.1038%2Fs41467-022-28603-2/MediaObjects/41467_2022_28603_MOESM9_ESM.xlsx)\n",
    "- Supplemental data file containing Sun et al. structure model [file download](https://static-content.springer.com/esm/art%3A10.1038%2Fs41467-022-28603-2/MediaObjects/41467_2022_28603_MOESM13_ESM.xlsx)\n",
    "\n",
    "Huston et al. 2021 [link](https://doi.org/10.1016/j.molcel.2020.12.041)\n",
    "\n",
    "- Github repo [link](https://github.com/pylelab/SARS-CoV-2_SHAPE_MaP_structure/tree/11ab13d34fc19e2b8892b06e5efdefad790d38ad)\n",
    "- Reactivity data [file download](https://github.com/pylelab/SARS-CoV-2_SHAPE_MaP_structure/blob/11ab13d34fc19e2b8892b06e5efdefad790d38ad/SHAPE-MaP_data/SARS-CoV-2_SHAPE_Reactivity.txt)\n",
    "- Structure model [file download](https://github.com/pylelab/SARS-CoV-2_SHAPE_MaP_structure/blob/11ab13d34fc19e2b8892b06e5efdefad790d38ad/SHAPE-MaP_data/SARS-CoV-2_Full_Length_Secondary_Structure_Map.ct)\n"
   ]
  },
  {
   "cell_type": "markdown",
   "metadata": {},
   "source": [
    "## Import RNAvigate\n",
    "\n",
    "The first step in this notebook is to import the necessary Python modules: RNAvigate and Pandas. Pandas is needed to load Excel files into RNAvigate."
   ]
  },
  {
   "cell_type": "code",
   "execution_count": null,
   "metadata": {},
   "outputs": [],
   "source": [
    "import rnavigate as rnav\n",
    "import pandas as pd\n"
   ]
  },
  {
   "cell_type": "markdown",
   "metadata": {},
   "source": [
    "## Define samples and provide input file names\n",
    "\n",
    "Next, data files are loaded into RNAvigate samples and assigned to data keywords.\n",
    "\n",
    "- `shapemap` stores SHAPE-MaP, icSHAPE, or DMS-MaPseq reactivities, depending on the study.\n",
    "- `ss` stores the secondary structure model from each study.\n",
    "\n",
    "We create one sample for each study (`lan`, `huston`, `manfredonia`, and `sun`),\n",
    "and one sample to hold our no-data MFE model (`de_novo`).\n",
    "\n",
    "RNAvigate does not natively accept Excel files. Instead, Pandas is used to create DataFrames, which are accepted, from the Excel files. This requires only one extra python function `pandas.read_excel`."
   ]
  },
  {
   "cell_type": "code",
   "execution_count": null,
   "metadata": {},
   "outputs": [],
   "source": [
    "de_novo = rnav.Sample(\n",
    "    sample=\"No data MFE\",\n",
    "    ss=\"./denovo_model/sars_1_8000_md300.ct\")\n",
    "\n",
    "huston = rnav.Sample(\n",
    "    sample=\"Huston et al.\",\n",
    "    shapemap=\"./Huston_etal_2021/SARS-CoV-2_SHAPE_Reactivity.map\",\n",
    "    ss=\"./Huston_etal_2021/SARS-CoV-2_Full_Length_Secondary_Structure_Map.ct\")\n",
    "\n",
    "manfredonia = rnav.Sample(\n",
    "     sample=\"Manfredonia et al.\",\n",
    "     shapemap={\n",
    "         \"shapemap_rnaframework\": \"./Manfredonia_etal_2020/SHAPE_invivo/SHAPE_invivo.xml\"\n",
    "         },\n",
    "     ss=\"./Manfredonia_etal_2020/SHAPE_invivo/SARS-CoV-2.db\")\n",
    "\n",
    "lan_profile_df = pd.read_excel(\n",
    "    io=\"./Lan_etal_2022/population_reactivities.xlsx\",\n",
    "    sheet_name=\"mus\",\n",
    "    usecols=[0, 1, 3],\n",
    "    names=[\"Nucleotide\", \"Sequence\", \"Norm_profile\"])\n",
    "\n",
    "lan = rnav.Sample(\n",
    "    sample=\"Lan et al.\",\n",
    "    shapemap=lan_profile_df,\n",
    "    ss=\"./Lan_etal_2022/vero.ct\")\n",
    "\n",
    "sun_profile_df = pd.read_excel(\n",
    "    io=\"./Sun_etal_2021/mmc2.xlsx\",\n",
    "    sheet_name=\"SARS2-invivo\",\n",
    "    usecols=[0, 1, 2],\n",
    "    names=[\"Nucleotide\", \"Sequence\", \"Norm_profile\"],\n",
    "    dtype={\n",
    "        \"Nucleotide\": \"Int32\",\n",
    "        \"Sequence\": \"string\",\n",
    "        \"Norm_profile\": \"float32\"}\n",
    "    )\n",
    "\n",
    "sun_ss_df = pd.read_excel(\n",
    "    io=\"./Lan_etal_2022/all_figure_data.xlsx\",\n",
    "    sheet_name=\"Figure S5\",\n",
    "    usecols=[0, 13],\n",
    "    names=[\"Nucleotide\", \"Pair\"],\n",
    "    nrows=21289,\n",
    "    skiprows=5,\n",
    "    dtype={\n",
    "        \"Nucleotide\": \"Int32\",\n",
    "        \"Pair\": \"Int32\"})\n",
    "\n",
    "pairs_list = [(nt, pair_nt) for _, (nt, pair_nt) in sun_ss_df.iterrows()]\n",
    "\n",
    "sun = rnav.Sample(\n",
    "    sample=\"Sun et al.\",\n",
    "    shapemap=sun_profile_df,\n",
    "    ss={'ss_pairs': pairs_list, 'sequence': 'shapemap'}\n",
    "    )\n"
   ]
  },
  {
   "cell_type": "markdown",
   "metadata": {},
   "source": [
    "## Change sequences to uppercase RNA alphabet\n",
    "\n",
    "Some of the provided files specify a DNA alphabet and may contain lowercase letters.\n",
    "Here, all associated sequences are converted to an uppercase RNA alphabet.\n"
   ]
  },
  {
   "cell_type": "code",
   "execution_count": null,
   "metadata": {},
   "outputs": [],
   "source": [
    "# Make sure that all sequences are RNA alphabet and uppercase\n",
    "for sample in [lan, huston, manfredonia, sun, de_novo]:\n",
    "    for data_keyword in sample.data.keys():\n",
    "        sample.get_data(data_keyword).normalize_sequence(\n",
    "            t_or_u='U',\n",
    "            uppercase=True,\n",
    "            )\n"
   ]
  },
  {
   "cell_type": "markdown",
   "metadata": {},
   "source": [
    "## Normalizing raw reactivities from Lan et al.\n",
    "\n",
    "Lan et al. profile data were provided as raw mutation rates. Here, DMS data are renormalized according to their methods:\n",
    "\n",
    "From Lan et al.:\n",
    "> Normalizing the DMS reactivities\n",
    ">\n",
    "> For purposes of folding RNA structures using DMS reactivity constraints, DMS\n",
    "> reactivities were normalized to a scale of 0–1 as follows. The median was\n",
    "> computed among the top 5% of DMS reactivities (except where a different\n",
    "> percentage is specified). All DMS reactivities were divided by this median to\n",
    "> compute the normalized reactivities. Normalized reactivities greater than 1.0\n",
    "> were winsorized by setting them to 1.0.\n",
    "\n",
    "Seen in the resulting output of this code block, RNAvigate produces a warning that Lan et al. (shapemap) data are missing error rates. In this case, RNAvigate performs normalization without propagation of error."
   ]
  },
  {
   "cell_type": "code",
   "execution_count": null,
   "metadata": {},
   "outputs": [],
   "source": [
    "\n",
    "# Perform normalization of raw reactivities from Lan et al.\n",
    "lan.get_data('shapemap').normalize(\n",
    "    norm_method='percentiles',       # normalize based on the the median or mean of a percentile range\n",
    "    nt_groups=['A','C'],             # normalize A and C together, do not include U or G\n",
    "    median_or_mean=\"median\",         # divide data by the median of values between 95th and 100th percentile\n",
    "    lower_bound=95,\n",
    "    upper_bound=100,\n",
    "    )\n",
    "lan.get_data('shapemap').winsorize(\n",
    "    column=\"Norm_profile\",           # winsorize the Normalized profile from the previous step\n",
    "    lower_bound=None,                # do not apply a lower bound\n",
    "    upper_bound=1.0,                   # for values above 1, set to 1\n",
    "    )\n"
   ]
  },
  {
   "cell_type": "markdown",
   "metadata": {},
   "source": [
    "## Check sequence alignments\n",
    "\n",
    "We don't know if the sequences being used differ positionally from each other.\n",
    "RNAvigate can perform its own sequence alignment but it is computationally expensive.\n",
    "We can also use RNAvigate's SequenceChecker to write sequences to a fasta file, then use an external sequence aligner.\n",
    "After running this code, the \"sequences.fa\" file is input into ClustalOmega ([link](https://www.ebi.ac.uk/Tools/msa/clustalo/)) to obtain a multiple sequence alignment.\n",
    "\n",
    "ClustalOmega options:\n",
    "- RNA sequence input format\n",
    "- Pearson/FASTA output format\n",
    "- otherwise default settings\n",
    "\n",
    "Next, the sequence alignment file from the previous step is loaded into RNAvigate using `rnav.data.set_multiple_sequence_alignment`.\n",
    "Whenever data is compared between these samples, they are first positionally aligned using this alignment.\n"
   ]
  },
  {
   "cell_type": "code",
   "execution_count": null,
   "metadata": {},
   "outputs": [],
   "source": [
    "seq_check = rnav.analysis.SequenceChecker(samples=[lan, huston, manfredonia, sun, de_novo])\n",
    "seq_check.write_fasta('sequences.fa')\n"
   ]
  },
  {
   "cell_type": "code",
   "execution_count": null,
   "metadata": {},
   "outputs": [],
   "source": [
    "base_seq = rnav.data.set_multiple_sequence_alignment('alignments.fa', set_pairwise=True)\n"
   ]
  },
  {
   "cell_type": "markdown",
   "metadata": {},
   "source": [
    "## Compare normalized reactivities between experiments\n",
    "\n",
    "In order to determine the extent of agreement between experimental reactivities,\n",
    "RNAvigate is used to plot sample vs. sample reactivies and to compute Pearson coefficients.\n",
    "Here, a kernel density plot is used, instead of the default scatter plot,\n",
    "which allows better visualization for large data sets.\n",
    "We apply the region argument to limit our analysis to the first 7kb of ORF1a."
   ]
  },
  {
   "cell_type": "code",
   "execution_count": null,
   "metadata": {},
   "outputs": [],
   "source": [
    "plot = rnav.plot_linreg(\n",
    "    samples=[lan, huston, manfredonia, sun],\n",
    "    profile=\"shapemap\",\n",
    "    scale='linear',\n",
    "    region=[266, 7265],\n",
    "    regression=\"pearson\",\n",
    "    kde=True,\n",
    "    colorbars=False,\n",
    "    )\n",
    "for row in plot.axes:\n",
    "    for ax in row:\n",
    "        ax.set(\n",
    "            xlim=(-0.1, 2.6),\n",
    "            ylim=(-0.1, 2.6),\n",
    "            xticks=[0, 0.5, 1.0, 1.5, 2.0, 2.5],\n",
    "            yticks=[0, 0.5, 1.0, 1.5, 2.0, 2.5],\n",
    "        )\n",
    "plot.save(\"pairwise_regression.svg\")\n"
   ]
  },
  {
   "cell_type": "markdown",
   "metadata": {},
   "source": [
    "## Compare structure models\n",
    "\n",
    "Below, we create new RNAvigate interactions data `structure_comparison` which contains information on every base-pair modelled in any of the four studies, including which models and how many models contain that base-pair.\n",
    "\n",
    "Using this data, we compute the percentage of base pairs in the first 7 kb of ORF1a that are predicted by 1, 2, 3 or 4 studies. If a base-pair is predicted in multiple studies, it is included that many times.\n",
    "\n",
    "The plot below is created from RNAvigate data objects, but uses matplotlib to create the pie chart."
   ]
  },
  {
   "cell_type": "code",
   "execution_count": null,
   "metadata": {},
   "outputs": [],
   "source": [
    "import matplotlib.pyplot as plt\n",
    "\n",
    "structure_comparison = rnav.data.StructureCompareMany(\n",
    "    input_data=[\n",
    "        lan.get_data(\"ss\"),\n",
    "        huston.get_data(\"ss\"),\n",
    "        manfredonia.get_data(\"ss\"),\n",
    "        sun.get_data(\"ss\")\n",
    "        ],\n",
    "    sequence=lan.get_data(\"ss\"),\n",
    "    )\n",
    "\n",
    "df = structure_comparison.data\n",
    "orf1 = df.eval(\"i >= 266 & j <= 7265\")\n",
    "num_structures = df.loc[orf1, \"Num_structures\"] + 1\n",
    "percentages = [sum(num_structures == i)*(i) / sum(orf1) for i in [1, 2, 3, 4]]\n",
    "\n",
    "fig, ax = plt.subplots(1, figsize=(2, 2))\n",
    "ax.pie(\n",
    "    x=percentages,\n",
    "    labels=[\"1 study\", \"2\", \"3\", \"all studies\"],\n",
    "    colors=structure_comparison._metric[\"cmap\"],\n",
    "    startangle=90,\n",
    "    autopct='%1.0f%%');\n",
    "\n",
    "# plt.savefig(\"pie_chart.svg\")\n"
   ]
  },
  {
   "cell_type": "markdown",
   "metadata": {},
   "source": [
    "# Compare no-data MFE model to study models\n",
    "\n",
    "Here we compute two statistics to compare our no-data MFE model to the 4 study models:\n",
    "- how many base-pairs in the no-data MFE model appear in zero studies\n",
    "- how many consensus base-pairs (in 3-4 studies) are not in the MFE model\n"
   ]
  },
  {
   "cell_type": "code",
   "execution_count": null,
   "metadata": {},
   "outputs": [],
   "source": [
    "region = list(range(266, 7266))\n",
    "denovo_ss = de_novo.get_data(\"ss\")\n",
    "\n",
    "denovo_int = denovo_ss.as_interactions()\n",
    "denovo_int.mask_on_position(isolate=region)\n",
    "denovo_int = denovo_int.copy(apply_filter=True)\n",
    "\n",
    "structure_comparison.reset_mask()\n",
    "structure_comparison.mask_on_position(isolate=region)\n",
    "studies = structure_comparison.copy(apply_filter=True)\n",
    "\n",
    "in_denovo = studies.filter(\n",
    "    structure=denovo_ss,\n",
    "    paired_only=True,\n",
    "    isolate_nts=region\n",
    "    )\n",
    "in_3_or_4 = studies.mask_on_values(Num_structures_ge=3)\n",
    "\n",
    "consensus = sum(in_3_or_4)\n",
    "consensus_in_denovo = sum(in_3_or_4 & in_denovo)\n",
    "consensus_not_in_denovo = consensus - consensus_in_denovo\n",
    "denovo_total = len(denovo_int.data)\n",
    "denovo_not_in_studies = denovo_total - sum(in_denovo)\n",
    "\n",
    "print(f\"modelled de novo, not in any study: {denovo_not_in_studies} / {denovo_total} = {denovo_not_in_studies / denovo_total:.2%}\")\n",
    "print(f\"consensus pairs not predicted de novo: {consensus_not_in_denovo} / {consensus} = {consensus_not_in_denovo / consensus:.2%}\")\n"
   ]
  },
  {
   "cell_type": "markdown",
   "metadata": {},
   "source": [
    "## Visualize structure models\n",
    "\n",
    "To visualize these structure models, we use `rnav.plot_arcs()` using the `structure_comparison` data created early and our no-data MFE model.\n",
    "`structure_comparison` is displayed on arc plots with each base-pair colored by how many models predict it.\n",
    "To limit the size of these plots, we only visualize nucleotides 1000-4000 using the `region` argument.\n",
    "\n",
    "Each group choose a different value for the max pairing distance parameter provided to the folding algorithm, which limits the similarity seen between structure models.\n",
    "These limits are displayed on this plot using the Matplotlib interface of the RNAvigate plot.\n",
    "Each dashed line represents the maximum height of an arc reported by one of the studies.\n",
    "\n",
    "We will create additional plots to enlarge areas which are distinctly different between MFE and structure probing models. Here, we draw boxes around these regions."
   ]
  },
  {
   "cell_type": "code",
   "execution_count": null,
   "metadata": {},
   "outputs": [],
   "source": [
    "start, end = 1000, 4000\n",
    "plot = rnav.plot_arcs(\n",
    "    samples=[lan],\n",
    "    labels=[\"All samples\"],\n",
    "    sequence=structure_comparison,\n",
    "    structure=de_novo.get_data(\"ss\"),\n",
    "    interactions=structure_comparison,\n",
    "    panels={\"interactions\": \"top\",\n",
    "            \"structure\": \"bottom\"},\n",
    "    region=[start, end],\n",
    "    seqbar=False,\n",
    "    colorbars=False,\n",
    "    nt_ticks=(500, 100),\n",
    "    )\n",
    "\n",
    "# custom lines and boxes\n",
    "ax = plot.axes[0, 0]\n",
    "ax.set(ylim=(-305, 305))\n",
    "# Draw boxes around the zoom-in regions\n",
    "for x1, x2 in [[1635, 1960], [2810, 3112]]:\n",
    "    y1, y2 = -80, 60\n",
    "    ax.plot(\n",
    "        [x1, x2, x2, x1, x1],\n",
    "        [y1, y1, y2, y2, y1],\n",
    "        color=\"black\", ls='--', lw=1\n",
    "        )\n",
    "# Draw dashed lines for maximum pairing distances\n",
    "for pairing_distance in [350, 300, 500, 600]:\n",
    "    ax.plot(\n",
    "        [start, end],\n",
    "        [pairing_distance/2, pairing_distance/2],\n",
    "        color=\"grey\", ls=\"--\",\n",
    "        )\n",
    "# set the figure size (1000 nts == 3 inches)\n",
    "plot.set_figure_size(height_ax_rel=0.003, width_ax_rel=0.003)\n",
    "\n",
    "# plot.save(f\"ss_compare_{start}_{end}.svg\")\n",
    "\n",
    "cb_plot = plot.plot_colorbars()\n",
    "# cb_plot.save(\"ss_compare_colorbar.svg\")\n"
   ]
  },
  {
   "cell_type": "markdown",
   "metadata": {},
   "source": [
    "## Zoom-in of regions where the MFE model diverges from consensus base-pairs"
   ]
  },
  {
   "cell_type": "code",
   "execution_count": null,
   "metadata": {},
   "outputs": [],
   "source": [
    "for start, end in [[1635, 1960], [2810, 3112]]:\n",
    "    plot = rnav.plot_arcs(\n",
    "        samples=[lan],\n",
    "        labels=[\"All samples\"],\n",
    "        sequence=structure_comparison,\n",
    "        structure=de_novo.get_data(\"ss\"),\n",
    "        interactions=structure_comparison,\n",
    "        panels={\"interactions\": \"top\",\n",
    "                \"structure\": \"bottom\"},\n",
    "        region=[start, end],\n",
    "        seqbar=False,\n",
    "        colorbars=False,\n",
    "        nt_ticks=(100, 50),\n",
    "        )\n",
    "    ax = plot.axes[0, 0]\n",
    "    # restrict the y-axis\n",
    "    ax.set(ylim=(-80, 60))\n",
    "    # set the figure size (1000 nt == 8 inches)\n",
    "    plot.set_figure_size(height_ax_rel=0.008, width_ax_rel=0.008)\n",
    "    # plot.save(f\"ss_compare_{start}_{end}.svg\")\n"
   ]
  }
 ],
 "metadata": {
  "kernelspec": {
   "display_name": "Python 3",
   "language": "python",
   "name": "python3"
  },
  "language_info": {
   "codemirror_mode": {
    "name": "ipython",
    "version": 3
   },
   "file_extension": ".py",
   "mimetype": "text/x-python",
   "name": "python",
   "nbconvert_exporter": "python",
   "pygments_lexer": "ipython3",
   "version": "3.9.2"
  }
 },
 "nbformat": 4,
 "nbformat_minor": 4
}
