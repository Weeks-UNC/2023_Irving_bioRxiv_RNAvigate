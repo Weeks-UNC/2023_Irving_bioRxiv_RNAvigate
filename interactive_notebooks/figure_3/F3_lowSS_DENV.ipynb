{
 "cells": [
  {
   "attachments": {},
   "cell_type": "markdown",
   "metadata": {},
   "source": [
    "Low SHAPE/low Shannon entropy analysis of DENV2 genome\n",
    "======================================================\n",
    "\n",
    "This is a recreation of an analysis in Figure 1 from Dethoff et al. 2018. Data files\n",
    "were obtained from the authors. [pdf](https://weekslab.com/wp-content/uploads/sites/9/2021/01/2018_ed_mb_pnas.pdf)\n",
    "- DENV2_EX_1M7_MAP.map\n",
    "- DENV2_EX-Diff_BP-prob.dp\n",
    "- DENV2_EX-Diff_MFE.ct\n",
    "\n",
    "These files were originally produced by performing SHAPE-MaP, analyzing resulting sequencing\n",
    "reads using ShapeMapper, and then producing a secondary structure model and base\n",
    "pairing probabilities using SuperFold.\n",
    "\n",
    "In this example, we will analyze SHAPE-MaP data from the Dengue 2 viral genome.\n",
    "low SHAPE, low Shannon entropy (lowSS) regions in a long RNA can be used to\n",
    "detect regions of well-defined structure. Functional elements tend to be\n",
    "over-represented in these lowSS regions. These regions are defined by low SHAPE\n",
    "reactivity, indicating low local nucleotide flexibility, and by low Shannon\n",
    "entropy, a measure of likelihood to form alternative structures."
   ]
  },
  {
   "cell_type": "code",
   "execution_count": null,
   "metadata": {},
   "outputs": [],
   "source": [
    "import rnavigate as rnav\n"
   ]
  },
  {
   "attachments": {},
   "cell_type": "markdown",
   "metadata": {},
   "source": [
    "## Define the experimental sample and provide input file names\n",
    "\n",
    "- `sample`: an arbitrary string that will serve as a label on plots\n",
    "- `shapemap`: ShapeMapper2 profile.txt file\n",
    "- `pairprob`: Superfold output file, .dp file providing basepairing probabilities\n",
    "- `ct`: Superfold output file, .ct file providing an MFE structure"
   ]
  },
  {
   "cell_type": "code",
   "execution_count": null,
   "metadata": {},
   "outputs": [],
   "source": [
    "denv = rnav.Sample(\n",
    "    sample=\"DENV2 Genome\",\n",
    "    shapemap=\"DENV2_EX-1M7_MAP.map\",\n",
    "    pairprob=\"DENV2_EX-Diff_BP-prob.dp\",\n",
    "    ss=\"DENV2_EX-Diff_MFE.ct\")\n"
   ]
  },
  {
   "attachments": {},
   "cell_type": "markdown",
   "metadata": {},
   "source": [
    "## Plot results of the low SHAPE, low Shannon entropy analysis\n",
    "\n",
    "First, we will perform the lowSS analysis. By default, this step will produce a\n",
    "full-length plot. However, DENV2 is 10732 nt, which is a bit unweildy, so we\n",
    "will set `region=[1, 2000]` to limit the visualization to nucleotide positions 1 through 2000."
   ]
  },
  {
   "cell_type": "code",
   "execution_count": null,
   "metadata": {},
   "outputs": [],
   "source": [
    "analysis = rnav.analysis.LowSS(sample=denv)\n",
    "plot = analysis.plot_lowss(region=[1,2000])\n",
    "\n",
    "# plot.save(\"denv_lowss.svg\")\n"
   ]
  }
 ],
 "metadata": {
  "kernelspec": {
   "display_name": "Python 3 (ipykernel)",
   "language": "python",
   "name": "python3"
  },
  "language_info": {
   "codemirror_mode": {
    "name": "ipython",
    "version": 3
   },
   "file_extension": ".py",
   "mimetype": "text/x-python",
   "name": "python",
   "nbconvert_exporter": "python",
   "pygments_lexer": "ipython3",
   "version": "3.9.2"
  },
  "vscode": {
   "interpreter": {
    "hash": "5cbb00885ecd6c28cb92c1f604a30a23977756562934ed05197ce2fdb8002d56"
   }
  }
 },
 "nbformat": 4,
 "nbformat_minor": 4
}
