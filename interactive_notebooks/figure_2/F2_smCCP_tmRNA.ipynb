{
 "cells": [
  {
   "attachments": {},
   "cell_type": "markdown",
   "id": "413e205b",
   "metadata": {},
   "source": [
    "smCCP analysis of tmRNA\n",
    "=======================\n",
    "\n",
    "This is an example RNAvigate workflow for visualization of smCCP analysis of tmRNA.\n",
    "\n",
    "Data were originally published by Mustoe et. al. 2019. [pdf](https://weekslab.com/wp-content/uploads/sites/9/2021/01/2019_am_pnas.pdf)\n",
    "\n",
    "The supplemental data for this publication include processed ShapeMapper2 and PairMapper data, reference sequence and secondary structure of tmRNA, and DMS/PAIR-constrained structure models. To obtain RingMapper files, the raw sequencing reads were downloaded from the GEO (GSE135211), and processed with ShapeMapper v2.1.5 (using `--amplicon` and `--output-parsed-mutations` parameters) and Ringmapper (using default parameters). Cryo-EM structure was downloaded from the RCSB (6Q9A), and the tmRNA chain was isolated using pymol. These steps yield the files needed in this example:\n",
    "\n",
    "- 6q9A_tmRNA.pdb\n",
    "- cellfree_tmRNA_profile.txt\n",
    "- cellfree_tmRNA_rings.txt\n",
    "- cellfree_tmRNA-pairmap.txt\n",
    "- cellfree_tmRNA.all.f.ct\n",
    "- incell_tmRNA_profile.txt\n",
    "- incell_tmRNA_rings.txt\n",
    "- incell_tmRNA-pairmap.txt\n",
    "- incell_tmRNA.all.f.ct\n",
    "- tmRNA.ct\n",
    "- tmRNA.fa\n",
    "\n",
    "## Import RNAvigate"
   ]
  },
  {
   "cell_type": "code",
   "execution_count": null,
   "id": "deeed76e-b700-44a6-be5d-3e4173d59c3c",
   "metadata": {},
   "outputs": [],
   "source": [
    "import rnavigate as rnav\n"
   ]
  },
  {
   "attachments": {},
   "cell_type": "markdown",
   "id": "2bfa8e2f",
   "metadata": {},
   "source": [
    "## Define the experimental samples and provide input file names\n",
    "\n",
    "- `sample`: an arbitrary string used as a label on plots\n",
    "- `dmsmap`: a ShapeMapper2 profile.txt. Data will be renormalized for DMS by RNAvigate automatically.\n",
    "- `ringmap`: a RingMapper correlations file\n",
    "- `pairmap`: a PairMapper pairmap.txt file\n",
    "- `ss`: a previously published structure as a .ct file\n",
    "- `ss_predicted`: a data-informed minimum free energy model as a .ct file\n",
    "- `pdb`: a cryo-EM structure model as a .pdb file"
   ]
  },
  {
   "cell_type": "code",
   "execution_count": null,
   "id": "1d608667-9a16-47f6-b531-2d94be1141dd",
   "metadata": {},
   "outputs": [],
   "source": [
    "common_data = rnav.Sample(\n",
    "    sample=\"shared data\",\n",
    "    ss=\"tmRNA.ct\",\n",
    "    pdb={\"pdb\": \"6q9A_tmRNA.pdb\",\n",
    "         \"chain\": \"4\",\n",
    "         \"sequence\": \"tmRNA.fa\"})\n",
    "\n",
    "cf = rnav.Sample(\n",
    "    sample=\"Cell-free\",\n",
    "    inherit=common_data,\n",
    "    dmsmap=\"cellfree_tmRNA_profile.txt\",\n",
    "    ringmap=\"cellfree_tmRNA_rings.txt\",\n",
    "    pairmap=\"cellfree_tmRNA-pairmap.txt\",\n",
    "    ss_predicted={\"ss\": \"cellfree_tmRNA.all.f.ct\"})\n",
    "\n",
    "ic = rnav.Sample(\n",
    "    sample=\"In cell\",\n",
    "    inherit=common_data,\n",
    "    dmsmap=\"incell_tmRNA_profile.txt\",\n",
    "    ringmap=\"incell_tmRNA_rings.txt\",\n",
    "    pairmap=\"incell_tmRNA-pairmap.txt\",\n",
    "    ss_predicted={\"ss\": \"incell_tmRNA.all.f.ct\"})\n"
   ]
  },
  {
   "attachments": {},
   "cell_type": "markdown",
   "id": "0df4830d",
   "metadata": {},
   "source": [
    "## Compare modified mutation rates with a skyline plot"
   ]
  },
  {
   "cell_type": "code",
   "execution_count": null,
   "id": "504cab87-a3d4-48da-9776-052ec97e0846",
   "metadata": {},
   "outputs": [],
   "source": [
    "plot = rnav.plot_skyline(\n",
    "    samples=[cf, ic],\n",
    "    profile=\"dmsmap\",\n",
    "    columns=\"Modified_rate\")\n",
    "\n",
    "# saves plot as an svg file\n",
    "# plot.save(\"tmrna_skyline.svg\")\n"
   ]
  },
  {
   "attachments": {},
   "cell_type": "markdown",
   "id": "024fae3c",
   "metadata": {},
   "source": [
    "## Compare structure models to previously published model and display PAIRs"
   ]
  },
  {
   "cell_type": "code",
   "execution_count": null,
   "id": "1ce4bf90-e433-44dc-a8f9-552e07aed4db",
   "metadata": {},
   "outputs": [],
   "source": [
    "plot = rnav.plot_arcs(\n",
    "    samples=[cf, ic],\n",
    "    sequence=\"ss\",\n",
    "    structure=\"ss\",\n",
    "    structure2=\"ss_predicted\",\n",
    "    profile=\"dmsmap\",\n",
    "    interactions=\"pairmap\",\n",
    "    profile_scale_factor=20,\n",
    "    plot_error=False\n",
    ")\n",
    "\n",
    "# save the plot as an svg file\n",
    "# plot.save(\"tmrna_arcs.svg\")\n"
   ]
  },
  {
   "attachments": {},
   "cell_type": "markdown",
   "id": "a62524ae",
   "metadata": {},
   "source": [
    "## Display filtered RINGs on a cryo-EM structure\n",
    "Here, we calculate mutual information scores for RINGs to be used to filter RINGs.\n",
    "\n",
    "See the Figure 4 notebook for more detail on this calculation."
   ]
  },
  {
   "cell_type": "code",
   "execution_count": null,
   "id": "7e6b6e3d",
   "metadata": {},
   "outputs": [],
   "source": [
    "for sample in [cf, ic]:\n",
    "    sample.data[\"ringmap\"].data.eval(\"MI = Statistic / (2 * Mod_Depth)\", inplace=True)\n",
    "\n",
    "appearance_arguments={\n",
    "    \"width\": 1000,\n",
    "    \"height\": 1000,\n",
    "    \"background_alpha\": 0,\n",
    "    \"orientation\": [-177.55,-335.68,-210.36,-408.72,-0.27,-0.14,0.22,-0.93],\n",
    "    \"hide_cylinders\": True}\n",
    "\n",
    "plot = rnav.plot_mol(\n",
    "    samples=[cf, ic],\n",
    "    structure=\"pdb\",\n",
    "    colors=\"grey\",\n",
    "    interactions={\n",
    "        'interactions': \"ringmap\",\n",
    "        \"MI_ge\": 0.000025,\n",
    "        \"ss_only\": True,\n",
    "        \"positive_only\": True,\n",
    "        \"Statistic_ge\": 23,\n",
    "        \"min_cd\": 15,\n",
    "        \"Zij_ge\": 2},\n",
    "    # # appearance arguments\n",
    "    # width=1000,\n",
    "    # height=1000,\n",
    "    # background_alpha=0,\n",
    "    orientation=[-177.55,-335.68,-210.36,-408.72,-0.27,-0.14,0.22,-0.93],\n",
    "    hide_cylinders=True\n",
    "    )\n"
   ]
  },
  {
   "cell_type": "code",
   "execution_count": null,
   "id": "d5e54f61",
   "metadata": {},
   "outputs": [],
   "source": [
    "# plot.save()\n"
   ]
  }
 ],
 "metadata": {
  "kernelspec": {
   "display_name": "RNAvigate",
   "language": "python",
   "name": "python3"
  },
  "language_info": {
   "codemirror_mode": {
    "name": "ipython",
    "version": 3
   },
   "file_extension": ".py",
   "mimetype": "text/x-python",
   "name": "python",
   "nbconvert_exporter": "python",
   "pygments_lexer": "ipython3",
   "version": "3.9.2"
  },
  "vscode": {
   "interpreter": {
    "hash": "5cbb00885ecd6c28cb92c1f604a30a23977756562934ed05197ce2fdb8002d56"
   }
  }
 },
 "nbformat": 4,
 "nbformat_minor": 5
}
