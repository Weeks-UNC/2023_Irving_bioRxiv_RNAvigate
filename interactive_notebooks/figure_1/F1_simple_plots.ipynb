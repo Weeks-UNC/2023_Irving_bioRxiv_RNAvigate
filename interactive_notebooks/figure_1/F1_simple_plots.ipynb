{
 "cells": [
  {
   "attachments": {},
   "cell_type": "markdown",
   "id": "2065da11",
   "metadata": {},
   "source": [
    "Simple plotting examples with TPP riboswitch\n",
    "============================================\n",
    "\n",
    "The data used in this example was collected by a graduate student in our lab, David Qiu.\n",
    "These data are used here to illustrate the types of plots that can be created using RNAvigate.\n",
    "\n",
    "In breif, a DMS-MaP experiment was performed on an IVT construct of a TPP riboswitch.\n",
    "Raw sequencing data were analyzed using ShapeMapper v2.1.5 (with `--amplicon` and `--output-parsed-mutations` parameters).\n",
    "The resulting parsed mutation strings files (`_parsed.mut`) were analyzed further using RingMapper (default parameters).\n",
    "\n",
    "ShapeMapper2 data were used with RNAStructure's partition (with `--dmsnt` parameter) and ProbabilityPlot (with `-t` parameter) to produce a pairing probabilities text file.\n",
    "A crystal structure was obtained from the PDB (2GDI).\n",
    "A secondary structure diagram, based on the crystal structure, was created manually using StructureEditor.\n",
    "\n",
    "These steps yield the 5 data files used in this notebook:\n",
    "\n",
    "- DMS_TPP_profile.txt\n",
    "- DMS_TPP_rings.txt\n",
    "- 2gdi.pdb\n",
    "- TPP-2GDI.nsd\n",
    "- TPP-dms-bp.dp\n",
    "\n",
    "Links to pre-processing software:\n",
    "\n",
    "- [ShapeMapper2](https://github.com/Weeks-UNC/shapemapper2)\n",
    "- [RingMapper](https://github.com/Weeks-UNC/RingMapper)\n",
    "- [RNAstructure and StructureEditor](https://rna.urmc.rochester.edu/RNAstructure.html)\n",
    "\n",
    "## Import RNAvigate"
   ]
  },
  {
   "cell_type": "code",
   "execution_count": null,
   "id": "cccb1be9-7e11-4110-8d95-1376d751e743",
   "metadata": {},
   "outputs": [],
   "source": [
    "import rnavigate as rnav\n"
   ]
  },
  {
   "attachments": {},
   "cell_type": "markdown",
   "id": "2fc72315",
   "metadata": {},
   "source": [
    "## Define the experimental samples and provide input file names\n",
    "This step creates RNAvigate data classes representing the data contained in input files.\n",
    "- `sample`: an arbitrary string used as a label on plots\n",
    "- `dmsmap`: a ShapeMapper2 profile.txt.\n",
    "  - When using `dmsmap` instead of `shapemap` as the keyword, data are automatically rescaled using the same convention as PairMapper (manuscript citation 27).\n",
    "- `ringmap`: a RingMapper correlations file\n",
    "- `ss`: a structure diagram file\n",
    "- `pairprob`: a pairing probabilities file. Percentage values will be calculated by RNAvigate.\n",
    "- `pdb`: a PDB atomic coordinates file"
   ]
  },
  {
   "cell_type": "code",
   "execution_count": null,
   "id": "29f5d45e-f27a-4232-9212-3626ac3dcb0f",
   "metadata": {},
   "outputs": [],
   "source": [
    "tpp = rnav.Sample(\n",
    "    sample=\"TPP DMS-MaP\",\n",
    "    dmsmap=\"DMS_TPP_profile.txt\",\n",
    "    ringmap=\"DMS_TPP_rings.txt\",\n",
    "    ss=\"TPP-2GDI.nsd\",\n",
    "    pairprob=\"TPP-dms-bp.dp\",\n",
    "    pdb={\"pdb\":\"2gdi.pdb\", \"chain\":\"X\"})\n"
   ]
  },
  {
   "attachments": {},
   "cell_type": "markdown",
   "id": "0fdf109a",
   "metadata": {},
   "source": [
    "## Display normalized ShapeMapper2 profile\n"
   ]
  },
  {
   "cell_type": "code",
   "execution_count": null,
   "id": "42880e11-b394-4399-bbe4-cf54390226db",
   "metadata": {},
   "outputs": [],
   "source": [
    "plot = rnav.plot_profile(\n",
    "    samples=[tpp],\n",
    "    sequence=\"ss\",\n",
    "    profile=\"dmsmap\"\n",
    "    )\n",
    "plot.set_figure_size(height_ax_in=1)\n",
    "plot.axes[0,0].get_xaxis().set_visible(False)\n",
    "plot.axes[0,0].get_yaxis().set_visible(False)\n",
    "# plot.save(\"tpp_profile.svg\")\n"
   ]
  },
  {
   "attachments": {},
   "cell_type": "markdown",
   "id": "d6cdb387",
   "metadata": {},
   "source": [
    "## Compare modified and unmodified mutation rates\n"
   ]
  },
  {
   "cell_type": "code",
   "execution_count": null,
   "id": "fd2236a3-f15d-44c9-88b6-71078422a5f8",
   "metadata": {},
   "outputs": [],
   "source": [
    "plot = rnav.plot_skyline(\n",
    "    samples=[tpp],\n",
    "    sequence=\"ss\",\n",
    "    profile=\"dmsmap\",\n",
    "    columns=[\"Modified_rate\", \"Untreated_rate\"])\n",
    "plot.set_figure_size(height_ax_in=1)\n",
    "plot.axes[0,0].get_xaxis().set_visible(False)\n",
    "plot.axes[0,0].get_yaxis().set_visible(False)\n",
    "plot.axes[0,0].get_legend().set_visible(False)\n",
    "# plot.save(\"tpp_skyline.svg\")\n"
   ]
  },
  {
   "attachments": {},
   "cell_type": "markdown",
   "id": "e12f3310",
   "metadata": {},
   "source": [
    "## Display secondary structure and pairing probabilities as arc plots"
   ]
  },
  {
   "cell_type": "code",
   "execution_count": null,
   "id": "cc1c4f29-e4ac-4673-8ebb-16d7853f195a",
   "metadata": {},
   "outputs": [],
   "source": [
    "plot = rnav.plot_arcs(\n",
    "    samples=[tpp],\n",
    "    sequence=\"ss\",\n",
    "    structure=\"ss\",\n",
    "    profile=\"dmsmap\",\n",
    "    interactions=\"pairprob\",\n",
    "    title=False,\n",
    "    seqbar=False,\n",
    "    plot_error=False,\n",
    "    profile_scale_factor=8)\n",
    "plot.axes[0,0].get_xaxis().set_visible(False)\n",
    "# plot.save(\"tpp_arcs.svg\")\n"
   ]
  },
  {
   "attachments": {},
   "cell_type": "markdown",
   "id": "e0cb97bb",
   "metadata": {},
   "source": [
    "## Display secondary structure and shape reactivity as circle plots"
   ]
  },
  {
   "cell_type": "code",
   "execution_count": null,
   "id": "0ad2e915",
   "metadata": {},
   "outputs": [],
   "source": [
    "plot = rnav.plot_circle(\n",
    "    [tpp],\n",
    "    sequence=\"ss\",\n",
    "    profile=\"dmsmap\",\n",
    "    colors={\"sequence\": \"profile\"},\n",
    "    structure=\"ss\",\n",
    "    )\n",
    "plot.axes[0, 0].get_xaxis().set_visible(False)\n",
    "# plot.save(\"tpp_circle.svg\")\n"
   ]
  },
  {
   "attachments": {},
   "cell_type": "markdown",
   "id": "f359c10e",
   "metadata": {},
   "source": [
    "## Display secondary structure drawing with nucleotides colored by reactivity"
   ]
  },
  {
   "cell_type": "code",
   "execution_count": null,
   "id": "7f62f860-4430-4577-8dd7-bada1cc7736c",
   "metadata": {},
   "outputs": [],
   "source": [
    "plot = rnav.plot_ss(\n",
    "    [tpp],\n",
    "    structure=\"ss\",\n",
    "    profile=\"dmsmap\",\n",
    "    colors={\n",
    "        \"structure\": \"profile\",\n",
    "        \"nucleotides\": \"profile\",\n",
    "        },\n",
    "    bp_style=\"conventional\")\n",
    "# plot.save(\"tpp_ss.svg\")\n"
   ]
  },
  {
   "attachments": {},
   "cell_type": "markdown",
   "id": "5927e749",
   "metadata": {},
   "source": [
    "## Display filtered RINGs on 3D structure\n",
    "Here, we calculate mutual information, and add it to the ringmap data for filtering. See the notebook for figure 4 for a full explaination."
   ]
  },
  {
   "cell_type": "code",
   "execution_count": null,
   "id": "6915e76c-913d-4fa8-824a-69e39b2d27d4",
   "metadata": {},
   "outputs": [],
   "source": [
    "tpp.data[\"ringmap\"].data.eval(\"MI = Statistic / (2 * Mod_Depth)\", inplace=True)\n",
    "\n",
    "plot = rnav.plot_mol(\n",
    "    [tpp],\n",
    "    structure=\"pdb\",\n",
    "    interactions={\n",
    "        \"interactions\":\"ringmap\",\n",
    "        \"structure\": \"ss\",\n",
    "        \"positive_only\": True,\n",
    "        \"Statistic_ge\": 23,\n",
    "        \"min_cd\": 6,\n",
    "        \"ss_only\":True,\n",
    "        \"Zij_ge\":2,\n",
    "        \"MI_ge\": 0.000025\n",
    "        },\n",
    "    width=800,\n",
    "    height=800,\n",
    "    background_alpha=0,\n",
    "    orientation=[17.15,9.70,-0.02,-74.23,-0.79,-0.35,-0.18,0.46],\n",
    "    hide_cylinders=True,\n",
    "    colors=\"grey\",\n",
    "    title=False)\n"
   ]
  },
  {
   "cell_type": "code",
   "execution_count": null,
   "id": "1ec0bda7",
   "metadata": {},
   "outputs": [],
   "source": [
    "# plot.save()\n"
   ]
  }
 ],
 "metadata": {
  "kernelspec": {
   "display_name": "RNAvigate",
   "language": "python",
   "name": "python3"
  },
  "language_info": {
   "codemirror_mode": {
    "name": "ipython",
    "version": 3
   },
   "file_extension": ".py",
   "mimetype": "text/x-python",
   "name": "python",
   "nbconvert_exporter": "python",
   "pygments_lexer": "ipython3",
   "version": "3.9.2"
  },
  "vscode": {
   "interpreter": {
    "hash": "5cbb00885ecd6c28cb92c1f604a30a23977756562934ed05197ce2fdb8002d56"
   }
  }
 },
 "nbformat": 4,
 "nbformat_minor": 5
}
