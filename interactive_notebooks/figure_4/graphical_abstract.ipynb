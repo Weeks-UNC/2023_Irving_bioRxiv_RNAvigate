{
 "cells": [
  {
   "attachments": {},
   "cell_type": "markdown",
   "metadata": {},
   "source": [
    "# Graphical abstract images based on Figure 4\n",
    "\n",
    "## Import RNAvigate\n"
   ]
  },
  {
   "cell_type": "code",
   "execution_count": null,
   "metadata": {},
   "outputs": [],
   "source": [
    "import rnavigate as rnav\n"
   ]
  },
  {
   "attachments": {},
   "cell_type": "markdown",
   "metadata": {},
   "source": [
    "## Define the experimental samples and provide input file names\n"
   ]
  },
  {
   "cell_type": "code",
   "execution_count": null,
   "metadata": {},
   "outputs": [],
   "source": [
    "common_data = rnav.Sample(\n",
    "    sample='',\n",
    "    ss=\"RC_CRYSTAL_STRUCTURE.xrna\",\n",
    "    pdb={\"pdb\": \"3dhsCrystal_PlusLoops.pdb\",\n",
    "         \"chain\":\"A\"},\n",
    "    catalytic_core={\n",
    "        \"spans\": [[236, 240], [181, 188], [45, 47], [49, 49], [127, 128]],\n",
    "        \"sequence\": \"ss\",\n",
    "        \"color\": \"DarkOrchid\",\n",
    "        \"name\": \"catalytic core\"},\n",
    "    P5={\n",
    "        \"spans\": [[58, 62], [101, 105]],\n",
    "        \"sequence\": \"ss\",\n",
    "        \"color\": \"orange\",\n",
    "        \"name\": \"P5 helix\"},\n",
    "    P2={\n",
    "        \"spans\": [[189, 195], [15, 21]],\n",
    "        \"sequence\": \"ss\",\n",
    "        \"color\": \"DodgerBlue\",\n",
    "        \"name\": \"P2 helix\"},\n",
    "    loop_loop={\n",
    "        \"spans\": [[70, 75], [141, 146]],\n",
    "        \"sequence\": \"ss\",\n",
    "        \"color\": \"red\",\n",
    "        \"name\": \"L5.1 - L15.1\"},\n",
    "    )\n",
    "\n",
    "rc1200 = rnav.Sample(\n",
    "    sample=\"fully folded\",\n",
    "    inherit=common_data,\n",
    "    dmsmap=\"RC1200_rnasep_profile.txt\",\n",
    "    ringmap=\"RC1200_rnasep_rings.txt\")\n"
   ]
  },
  {
   "attachments": {},
   "cell_type": "markdown",
   "metadata": {},
   "source": [
    "## Additional information for each sample\n"
   ]
  },
  {
   "cell_type": "code",
   "execution_count": null,
   "metadata": {},
   "outputs": [],
   "source": [
    "rc1200.data[\"ringmap\"].data.eval(\"MI = 0.5 * Statistic / Mod_Depth\", inplace=True)\n"
   ]
  },
  {
   "attachments": {},
   "cell_type": "markdown",
   "metadata": {},
   "source": [
    "## Custom color list\n"
   ]
  },
  {
   "cell_type": "code",
   "execution_count": null,
   "metadata": {},
   "outputs": [],
   "source": [
    "annotations_list = [\"catalytic_core\", \"P5\", \"P2\", \"loop_loop\"]\n",
    "color_list, cmap = common_data.get_data(\"ss\").get_colors_from_annotations(\n",
    "    annotations=common_data.get_data(annotations_list)\n",
    "    )\n"
   ]
  },
  {
   "attachments": {},
   "cell_type": "markdown",
   "metadata": {},
   "source": [
    "## 3D structure"
   ]
  },
  {
   "cell_type": "code",
   "execution_count": null,
   "metadata": {},
   "outputs": [],
   "source": [
    "plot = rnav.plot_mol(\n",
    "    samples=[rc1200],\n",
    "    structure=\"pdb\",\n",
    "    interactions={\n",
    "        'interactions': 'ringmap',\n",
    "        'structure': 'ss',\n",
    "        'MI_ge': 0.000025,\n",
    "        'Zij_ge':2,\n",
    "        'ss_only': True,\n",
    "        'Statistic_ge':23,\n",
    "        'min_cd': 6,\n",
    "        'positive_only': True,\n",
    "        'cmap': 'limegreen'},\n",
    "    colors=color_list,\n",
    "    hide_cylinders=True,\n",
    "    width=800,\n",
    "    height=800,\n",
    "    background_alpha=0,\n",
    "    orientation=[-35.06,-98.79,-28.57,-245.66,0.14,0.52,0.62,-0.57],\n",
    "    title=False\n",
    "    )\n"
   ]
  },
  {
   "cell_type": "code",
   "execution_count": null,
   "metadata": {},
   "outputs": [],
   "source": [
    "# plot.save()\n"
   ]
  },
  {
   "cell_type": "markdown",
   "metadata": {},
   "source": [
    "## Arc plot\n"
   ]
  },
  {
   "cell_type": "code",
   "execution_count": null,
   "metadata": {},
   "outputs": [],
   "source": [
    "plot = rnav.plot_arcs(\n",
    "    samples=[rc1200],\n",
    "    sequence=\"ss\",\n",
    "    structure=\"ss\",\n",
    "    interactions={\n",
    "        \"interactions\": \"ringmap\",\n",
    "        \"structure\": \"ss\",\n",
    "        \"MI_ge\": 0.00025,\n",
    "        \"Statistic_ge\":23,\n",
    "        \"min_cd\": 6,\n",
    "        \"positive_only\": True,\n",
    "        # if new_rings is True, color=\"limegreen\" else \"khaki\"\n",
    "        \"cmap\": \"limegreen\",\n",
    "        # \"metric\": \"new_rings\",\n",
    "        \"normalization\": \"none\"},\n",
    "    annotations=annotations_list,\n",
    "    # annotation_mode=\"bar\",\n",
    "    colorbars=False\n",
    "    )\n",
    "\n",
    "# plot.save(\"arc_plot.svg\")\n"
   ]
  },
  {
   "cell_type": "markdown",
   "metadata": {},
   "source": [
    "## Structure diagram"
   ]
  },
  {
   "cell_type": "code",
   "execution_count": null,
   "metadata": {},
   "outputs": [],
   "source": [
    "temp_settings = {\n",
    "    \"ss\": {\n",
    "        \"interactions\": {\n",
    "            \"linewidth\": 8,\n",
    "            \"alpha\": 1},\n",
    "        \"nucleotides\": {\n",
    "            \"s\": 6**2},\n",
    "        \"structure\": {\n",
    "            \"zorder\": 40,\n",
    "            \"linewidth\": 6},\n",
    "        \"basepairs\": {\n",
    "            \"zorder\": 39}\n",
    "    }}\n",
    "with rnav.styles.Settings(temp_settings):\n",
    "    plot = rnav.plot_ss(\n",
    "        samples=[rc1200],      # Make one structure diagram for each sample in our list\n",
    "        structure=\"ss\",\n",
    "        interactions={\n",
    "            \"interactions\": \"ringmap\", # show ringmap interactions\n",
    "            \"structure\": \"ss\",         # use the \"ss\" structure drawing to filter by structural features\n",
    "            \"MI_ge\": 0.00025,          # Only include RINGs with MI value greater than or equal to 0.00025\n",
    "            \"Statistic_ge\":23,         # Only include RINGs with Gapc value greater than or equal to 23\n",
    "            \"min_cd\": 6,               # Only include RINGs with contact distance of at least 5\n",
    "            \"positive_only\": True,     # Only include RINGs with a positive correlation\n",
    "            \"cmap\":\"limegreen\",         # Set the color of all rings to \"limegreen\"\n",
    "            },\n",
    "        bp_style=\"line\",               # represent base-pairs with solid lines\n",
    "        colors={\n",
    "            \"structure\": color_list,   # Apply custom color list to the backbone of the structure\n",
    "            \"nucleotides\": color_list,\n",
    "            },\n",
    "        )\n",
    "\n",
    "# plot.save(\"ss_plot.svg\")\n"
   ]
  },
  {
   "cell_type": "markdown",
   "metadata": {},
   "source": [
    "## Heatmap"
   ]
  },
  {
   "cell_type": "code",
   "execution_count": null,
   "metadata": {},
   "outputs": [],
   "source": [
    "regions = [((225,250), (80,110)),     # ((x1, x2), (y1, y2))\n",
    "           ((225,255), (175,200)),    # highlights interactions between region\n",
    "           ((135,150), (60,85)),      # x1-x2 and y1-y2\n",
    "           ((60,155), (10, 30))]\n",
    "\n",
    "plot = rnav.plot_heatmap(\n",
    "    samples=[rc1200],              # 1 plot for each of three samples\n",
    "    sequence=\"ss\",                    # align all data to the secondary structure sequence\n",
    "    structure=\"ss\",                   # use nucleotide positions from \"ss\" data (excludes the structure cassetes)\n",
    "    interactions={\n",
    "        \"interactions\": \"ringmap\",    # Plot RING-MaP interactions\n",
    "        \"positive_only\": True,        # remove negative correlations\n",
    "        \"cmap\": \"Greens\",             # use matplotlib \"Greens\" colormap\n",
    "        },\n",
    "    regions=regions,                  # draw boxes around regions\n",
    "    plot_type=\"kde\")                  # plot RINGs density instead of individual RINGs\n",
    "\n",
    "plot.save(\"heatmap.svg\")\n"
   ]
  }
 ],
 "metadata": {
  "kernelspec": {
   "display_name": "Python 3.9.2 ('RNAvigate')",
   "language": "python",
   "name": "python3"
  },
  "language_info": {
   "codemirror_mode": {
    "name": "ipython",
    "version": 3
   },
   "file_extension": ".py",
   "mimetype": "text/x-python",
   "name": "python",
   "nbconvert_exporter": "python",
   "pygments_lexer": "ipython3",
   "version": "3.9.2"
  },
  "orig_nbformat": 4,
  "vscode": {
   "interpreter": {
    "hash": "5cbb00885ecd6c28cb92c1f604a30a23977756562934ed05197ce2fdb8002d56"
   }
  }
 },
 "nbformat": 4,
 "nbformat_minor": 2
}
